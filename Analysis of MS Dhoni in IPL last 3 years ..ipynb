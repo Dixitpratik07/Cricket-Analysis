{
 "cells": [
  {
   "cell_type": "code",
   "execution_count": 1,
   "id": "29e246d8",
   "metadata": {},
   "outputs": [],
   "source": [
    "import warnings\n",
    "warnings.filterwarnings('ignore')\n",
    "\n",
    "import pandas as pd\n",
    "import numpy as np\n",
    "\n",
    "import matplotlib.pyplot as plt\n",
    "\n",
    "#to display all rows and columns \n",
    "pd.set_option('display.max_rows', None)\n",
    "pd.set_option('display.max_columns', None)\n",
    "pd.set_option('display.expand_frame_repr', False)\n",
    "pd.set_option('max_colwidth',-1)\n"
   ]
  },
  {
   "cell_type": "code",
   "execution_count": 2,
   "id": "95b174b0",
   "metadata": {},
   "outputs": [
    {
     "data": {
      "text/html": [
       "<div>\n",
       "<style scoped>\n",
       "    .dataframe tbody tr th:only-of-type {\n",
       "        vertical-align: middle;\n",
       "    }\n",
       "\n",
       "    .dataframe tbody tr th {\n",
       "        vertical-align: top;\n",
       "    }\n",
       "\n",
       "    .dataframe thead th {\n",
       "        text-align: right;\n",
       "    }\n",
       "</style>\n",
       "<table border=\"1\" class=\"dataframe\">\n",
       "  <thead>\n",
       "    <tr style=\"text-align: right;\">\n",
       "      <th></th>\n",
       "      <th>match_id</th>\n",
       "      <th>season</th>\n",
       "      <th>start_date</th>\n",
       "      <th>venue</th>\n",
       "      <th>innings</th>\n",
       "      <th>ball</th>\n",
       "      <th>batting_team</th>\n",
       "      <th>bowling_team</th>\n",
       "      <th>striker</th>\n",
       "      <th>non_striker</th>\n",
       "      <th>bowler</th>\n",
       "      <th>runs_off_bat</th>\n",
       "      <th>extras</th>\n",
       "      <th>wides</th>\n",
       "      <th>noballs</th>\n",
       "      <th>byes</th>\n",
       "      <th>legbyes</th>\n",
       "      <th>penalty</th>\n",
       "      <th>wicket_type</th>\n",
       "      <th>player_dismissed</th>\n",
       "      <th>other_wicket_type</th>\n",
       "      <th>other_player_dismissed</th>\n",
       "    </tr>\n",
       "  </thead>\n",
       "  <tbody>\n",
       "    <tr>\n",
       "      <th>0</th>\n",
       "      <td>335982</td>\n",
       "      <td>2008</td>\n",
       "      <td>2008-04-18</td>\n",
       "      <td>M Chinnaswamy Stadium</td>\n",
       "      <td>2</td>\n",
       "      <td>6.8</td>\n",
       "      <td>Royal Challengers Bangalore</td>\n",
       "      <td>Kolkata Knight Riders</td>\n",
       "      <td>MV Boucher</td>\n",
       "      <td>CL White</td>\n",
       "      <td>AB Agarkar</td>\n",
       "      <td>4</td>\n",
       "      <td>0</td>\n",
       "      <td>NaN</td>\n",
       "      <td>NaN</td>\n",
       "      <td>NaN</td>\n",
       "      <td>NaN</td>\n",
       "      <td>NaN</td>\n",
       "      <td>NaN</td>\n",
       "      <td>NaN</td>\n",
       "      <td>NaN</td>\n",
       "      <td>NaN</td>\n",
       "    </tr>\n",
       "    <tr>\n",
       "      <th>1</th>\n",
       "      <td>335982</td>\n",
       "      <td>2008</td>\n",
       "      <td>2008-04-18</td>\n",
       "      <td>M Chinnaswamy Stadium</td>\n",
       "      <td>2</td>\n",
       "      <td>2.7</td>\n",
       "      <td>Royal Challengers Bangalore</td>\n",
       "      <td>Kolkata Knight Riders</td>\n",
       "      <td>W Jaffer</td>\n",
       "      <td>JH Kallis</td>\n",
       "      <td>AB Dinda</td>\n",
       "      <td>1</td>\n",
       "      <td>0</td>\n",
       "      <td>NaN</td>\n",
       "      <td>NaN</td>\n",
       "      <td>NaN</td>\n",
       "      <td>NaN</td>\n",
       "      <td>NaN</td>\n",
       "      <td>NaN</td>\n",
       "      <td>NaN</td>\n",
       "      <td>NaN</td>\n",
       "      <td>NaN</td>\n",
       "    </tr>\n",
       "  </tbody>\n",
       "</table>\n",
       "</div>"
      ],
      "text/plain": [
       "   match_id  season  start_date                  venue  innings  ball                 batting_team           bowling_team     striker non_striker      bowler  runs_off_bat  extras  wides  noballs  byes  legbyes  penalty wicket_type player_dismissed  other_wicket_type  other_player_dismissed\n",
       "0  335982    2008    2008-04-18  M Chinnaswamy Stadium  2        6.8   Royal Challengers Bangalore  Kolkata Knight Riders  MV Boucher  CL White    AB Agarkar  4             0      NaN    NaN      NaN   NaN      NaN       NaN         NaN             NaN                NaN                    \n",
       "1  335982    2008    2008-04-18  M Chinnaswamy Stadium  2        2.7   Royal Challengers Bangalore  Kolkata Knight Riders  W Jaffer    JH Kallis   AB Dinda    1             0      NaN    NaN      NaN   NaN      NaN       NaN         NaN             NaN                NaN                    "
      ]
     },
     "execution_count": 2,
     "metadata": {},
     "output_type": "execute_result"
    }
   ],
   "source": [
    "df = pd.read_csv('D:/cricket analyst/MAsterclass/Day 4/IPL_ball_by_ball_updated.csv')\n",
    "df.head(2)"
   ]
  },
  {
   "cell_type": "code",
   "execution_count": 3,
   "id": "157f80c6",
   "metadata": {},
   "outputs": [
    {
     "data": {
      "text/plain": [
       "(208041, 22)"
      ]
     },
     "execution_count": 3,
     "metadata": {},
     "output_type": "execute_result"
    }
   ],
   "source": [
    "len(df), len(df.columns)"
   ]
  },
  {
   "cell_type": "code",
   "execution_count": 4,
   "id": "4968c2f7",
   "metadata": {},
   "outputs": [],
   "source": [
    "#Convert match date into standard  datetime format"
   ]
  },
  {
   "cell_type": "code",
   "execution_count": 5,
   "id": "59862502",
   "metadata": {},
   "outputs": [],
   "source": [
    "df[\"start_date\"] = pd.to_datetime(df[\"start_date\"])"
   ]
  },
  {
   "cell_type": "code",
   "execution_count": 6,
   "id": "d228bc5c",
   "metadata": {},
   "outputs": [],
   "source": [
    "df[\"Year\"] = df[\"start_date\"].dt.year"
   ]
  },
  {
   "cell_type": "code",
   "execution_count": 7,
   "id": "9a0015d2",
   "metadata": {},
   "outputs": [
    {
     "data": {
      "text/html": [
       "<div>\n",
       "<style scoped>\n",
       "    .dataframe tbody tr th:only-of-type {\n",
       "        vertical-align: middle;\n",
       "    }\n",
       "\n",
       "    .dataframe tbody tr th {\n",
       "        vertical-align: top;\n",
       "    }\n",
       "\n",
       "    .dataframe thead th {\n",
       "        text-align: right;\n",
       "    }\n",
       "</style>\n",
       "<table border=\"1\" class=\"dataframe\">\n",
       "  <thead>\n",
       "    <tr style=\"text-align: right;\">\n",
       "      <th></th>\n",
       "      <th>match_id</th>\n",
       "      <th>season</th>\n",
       "      <th>start_date</th>\n",
       "      <th>venue</th>\n",
       "      <th>innings</th>\n",
       "      <th>ball</th>\n",
       "      <th>batting_team</th>\n",
       "      <th>bowling_team</th>\n",
       "      <th>striker</th>\n",
       "      <th>non_striker</th>\n",
       "      <th>bowler</th>\n",
       "      <th>runs_off_bat</th>\n",
       "      <th>extras</th>\n",
       "      <th>wides</th>\n",
       "      <th>noballs</th>\n",
       "      <th>byes</th>\n",
       "      <th>legbyes</th>\n",
       "      <th>penalty</th>\n",
       "      <th>wicket_type</th>\n",
       "      <th>player_dismissed</th>\n",
       "      <th>other_wicket_type</th>\n",
       "      <th>other_player_dismissed</th>\n",
       "      <th>Year</th>\n",
       "    </tr>\n",
       "  </thead>\n",
       "  <tbody>\n",
       "    <tr>\n",
       "      <th>0</th>\n",
       "      <td>335982</td>\n",
       "      <td>2008</td>\n",
       "      <td>2008-04-18</td>\n",
       "      <td>M Chinnaswamy Stadium</td>\n",
       "      <td>2</td>\n",
       "      <td>6.8</td>\n",
       "      <td>Royal Challengers Bangalore</td>\n",
       "      <td>Kolkata Knight Riders</td>\n",
       "      <td>MV Boucher</td>\n",
       "      <td>CL White</td>\n",
       "      <td>AB Agarkar</td>\n",
       "      <td>4</td>\n",
       "      <td>0</td>\n",
       "      <td>NaN</td>\n",
       "      <td>NaN</td>\n",
       "      <td>NaN</td>\n",
       "      <td>NaN</td>\n",
       "      <td>NaN</td>\n",
       "      <td>NaN</td>\n",
       "      <td>NaN</td>\n",
       "      <td>NaN</td>\n",
       "      <td>NaN</td>\n",
       "      <td>2008</td>\n",
       "    </tr>\n",
       "    <tr>\n",
       "      <th>1</th>\n",
       "      <td>335982</td>\n",
       "      <td>2008</td>\n",
       "      <td>2008-04-18</td>\n",
       "      <td>M Chinnaswamy Stadium</td>\n",
       "      <td>2</td>\n",
       "      <td>2.7</td>\n",
       "      <td>Royal Challengers Bangalore</td>\n",
       "      <td>Kolkata Knight Riders</td>\n",
       "      <td>W Jaffer</td>\n",
       "      <td>JH Kallis</td>\n",
       "      <td>AB Dinda</td>\n",
       "      <td>1</td>\n",
       "      <td>0</td>\n",
       "      <td>NaN</td>\n",
       "      <td>NaN</td>\n",
       "      <td>NaN</td>\n",
       "      <td>NaN</td>\n",
       "      <td>NaN</td>\n",
       "      <td>NaN</td>\n",
       "      <td>NaN</td>\n",
       "      <td>NaN</td>\n",
       "      <td>NaN</td>\n",
       "      <td>2008</td>\n",
       "    </tr>\n",
       "  </tbody>\n",
       "</table>\n",
       "</div>"
      ],
      "text/plain": [
       "   match_id  season start_date                  venue  innings  ball                 batting_team           bowling_team     striker non_striker      bowler  runs_off_bat  extras  wides  noballs  byes  legbyes  penalty wicket_type player_dismissed  other_wicket_type  other_player_dismissed  Year\n",
       "0  335982    2008   2008-04-18  M Chinnaswamy Stadium  2        6.8   Royal Challengers Bangalore  Kolkata Knight Riders  MV Boucher  CL White    AB Agarkar  4             0      NaN    NaN      NaN   NaN      NaN       NaN         NaN             NaN                NaN                      2008\n",
       "1  335982    2008   2008-04-18  M Chinnaswamy Stadium  2        2.7   Royal Challengers Bangalore  Kolkata Knight Riders  W Jaffer    JH Kallis   AB Dinda    1             0      NaN    NaN      NaN   NaN      NaN       NaN         NaN             NaN                NaN                      2008"
      ]
     },
     "execution_count": 7,
     "metadata": {},
     "output_type": "execute_result"
    }
   ],
   "source": [
    "df.head(2)"
   ]
  },
  {
   "cell_type": "code",
   "execution_count": 8,
   "id": "ad0f1eab",
   "metadata": {},
   "outputs": [
    {
     "data": {
      "text/html": [
       "<div>\n",
       "<style scoped>\n",
       "    .dataframe tbody tr th:only-of-type {\n",
       "        vertical-align: middle;\n",
       "    }\n",
       "\n",
       "    .dataframe tbody tr th {\n",
       "        vertical-align: top;\n",
       "    }\n",
       "\n",
       "    .dataframe thead th {\n",
       "        text-align: right;\n",
       "    }\n",
       "</style>\n",
       "<table border=\"1\" class=\"dataframe\">\n",
       "  <thead>\n",
       "    <tr style=\"text-align: right;\">\n",
       "      <th></th>\n",
       "      <th>match_id</th>\n",
       "      <th>season</th>\n",
       "      <th>start_date</th>\n",
       "      <th>venue</th>\n",
       "      <th>innings</th>\n",
       "      <th>ball</th>\n",
       "      <th>batting_team</th>\n",
       "      <th>bowling_team</th>\n",
       "      <th>striker</th>\n",
       "      <th>non_striker</th>\n",
       "      <th>bowler</th>\n",
       "      <th>runs_off_bat</th>\n",
       "      <th>extras</th>\n",
       "      <th>wides</th>\n",
       "      <th>noballs</th>\n",
       "      <th>byes</th>\n",
       "      <th>legbyes</th>\n",
       "      <th>penalty</th>\n",
       "      <th>wicket_type</th>\n",
       "      <th>player_dismissed</th>\n",
       "      <th>other_wicket_type</th>\n",
       "      <th>other_player_dismissed</th>\n",
       "      <th>Year</th>\n",
       "    </tr>\n",
       "  </thead>\n",
       "  <tbody>\n",
       "    <tr>\n",
       "      <th>208039</th>\n",
       "      <td>1254117</td>\n",
       "      <td>2021</td>\n",
       "      <td>2021-10-15</td>\n",
       "      <td>Dubai International Cricket Stadium</td>\n",
       "      <td>1</td>\n",
       "      <td>12.6</td>\n",
       "      <td>Chennai Super Kings</td>\n",
       "      <td>Kolkata Knight Riders</td>\n",
       "      <td>RV Uthappa</td>\n",
       "      <td>F du Plessis</td>\n",
       "      <td>CV Varun</td>\n",
       "      <td>2</td>\n",
       "      <td>0</td>\n",
       "      <td>NaN</td>\n",
       "      <td>NaN</td>\n",
       "      <td>NaN</td>\n",
       "      <td>NaN</td>\n",
       "      <td>NaN</td>\n",
       "      <td>NaN</td>\n",
       "      <td>NaN</td>\n",
       "      <td>NaN</td>\n",
       "      <td>NaN</td>\n",
       "      <td>2021</td>\n",
       "    </tr>\n",
       "    <tr>\n",
       "      <th>208040</th>\n",
       "      <td>1254117</td>\n",
       "      <td>2021</td>\n",
       "      <td>2021-10-15</td>\n",
       "      <td>Dubai International Cricket Stadium</td>\n",
       "      <td>2</td>\n",
       "      <td>19.6</td>\n",
       "      <td>Kolkata Knight Riders</td>\n",
       "      <td>Chennai Super Kings</td>\n",
       "      <td>LH Ferguson</td>\n",
       "      <td>CV Varun</td>\n",
       "      <td>DJ Bravo</td>\n",
       "      <td>1</td>\n",
       "      <td>0</td>\n",
       "      <td>NaN</td>\n",
       "      <td>NaN</td>\n",
       "      <td>NaN</td>\n",
       "      <td>NaN</td>\n",
       "      <td>NaN</td>\n",
       "      <td>NaN</td>\n",
       "      <td>NaN</td>\n",
       "      <td>NaN</td>\n",
       "      <td>NaN</td>\n",
       "      <td>2021</td>\n",
       "    </tr>\n",
       "  </tbody>\n",
       "</table>\n",
       "</div>"
      ],
      "text/plain": [
       "        match_id  season start_date                                venue  innings  ball           batting_team           bowling_team      striker   non_striker    bowler  runs_off_bat  extras  wides  noballs  byes  legbyes  penalty wicket_type player_dismissed  other_wicket_type  other_player_dismissed  Year\n",
       "208039  1254117   2021   2021-10-15  Dubai International Cricket Stadium  1        12.6  Chennai Super Kings    Kolkata Knight Riders  RV Uthappa   F du Plessis  CV Varun  2             0      NaN    NaN      NaN   NaN      NaN       NaN         NaN             NaN                NaN                      2021\n",
       "208040  1254117   2021   2021-10-15  Dubai International Cricket Stadium  2        19.6  Kolkata Knight Riders  Chennai Super Kings    LH Ferguson  CV Varun      DJ Bravo  1             0      NaN    NaN      NaN   NaN      NaN       NaN         NaN             NaN                NaN                      2021"
      ]
     },
     "execution_count": 8,
     "metadata": {},
     "output_type": "execute_result"
    }
   ],
   "source": [
    "df.tail(2)"
   ]
  },
  {
   "cell_type": "code",
   "execution_count": 9,
   "id": "a5aee2d9",
   "metadata": {},
   "outputs": [],
   "source": [
    "#As we Know MS is a part of Chennai Super Kings so from above dataset we have to find at what name he is in the dataset"
   ]
  },
  {
   "cell_type": "code",
   "execution_count": 10,
   "id": "69d80b70",
   "metadata": {},
   "outputs": [
    {
     "data": {
      "text/plain": [
       "array(['Royal Challengers Bangalore', 'Kolkata Knight Riders',\n",
       "       'Rajasthan Royals', 'Kings XI Punjab', 'Delhi Daredevils',\n",
       "       'Chennai Super Kings', 'Deccan Chargers', 'Mumbai Indians',\n",
       "       'Kochi Tuskers Kerala', 'Pune Warriors', 'Sunrisers Hyderabad',\n",
       "       'Rising Pune Supergiants', 'Gujarat Lions',\n",
       "       'Rising Pune Supergiant', 'Delhi Capitals', 'Punjab Kings'],\n",
       "      dtype=object)"
      ]
     },
     "execution_count": 10,
     "metadata": {},
     "output_type": "execute_result"
    }
   ],
   "source": [
    "df.batting_team.unique()\n"
   ]
  },
  {
   "cell_type": "code",
   "execution_count": 11,
   "id": "d5d87e1a",
   "metadata": {},
   "outputs": [
    {
     "data": {
      "text/plain": [
       "array(['MEK Hussey', 'JDP Oram', 'SK Raina', 'S Badrinath', 'ML Hayden',\n",
       "       'PA Patel', 'MS Dhoni', 'JA Morkel', 'S Vidyut', 'SP Fleming',\n",
       "       'MS Gony', 'Joginder Sharma', 'M Muralitharan', 'M Ntini',\n",
       "       'S Anirudha', 'CK Kapugedera', 'L Balaji', 'A Mukund',\n",
       "       'T Thushara', 'A Flintoff', 'SB Jakati', 'M Vijay', 'GJ Bailey',\n",
       "       'R Ashwin', 'S Tyagi', 'JM Kemp', 'KB Arun Karthik',\n",
       "       'DE Bollinger', 'SB Styris', 'S Randiv', 'WP Saha', 'DJ Bravo',\n",
       "       'F du Plessis', 'RA Jadeja', 'KMDN Kulasekara', 'B Laughlin',\n",
       "       'AS Rajpoot', 'CH Morris', 'MM Sharma', 'DR Smith', 'BB McCullum',\n",
       "       'M Manhas', 'DJ Hussey', 'A Nehra', 'P Negi', 'RG More',\n",
       "       'KM Jadhav', 'AT Rayudu', 'SR Watson', 'MA Wood', 'Imran Tahir',\n",
       "       'Harbhajan Singh', 'DL Chahar', 'SW Billings', 'DR Shorey',\n",
       "       'SN Thakur', 'MJ Santner', 'SM Curran', 'RD Gaikwad',\n",
       "       'N Jagadeesan', 'MM Ali', 'RV Uthappa'], dtype=object)"
      ]
     },
     "execution_count": 11,
     "metadata": {},
     "output_type": "execute_result"
    }
   ],
   "source": [
    "df[df.batting_team ==\"Chennai Super Kings\"][\"striker\"].unique()"
   ]
  },
  {
   "cell_type": "code",
   "execution_count": 12,
   "id": "4cb8841d",
   "metadata": {},
   "outputs": [],
   "source": [
    "MS_df = df[df['striker']== 'MS Dhoni']"
   ]
  },
  {
   "cell_type": "code",
   "execution_count": 13,
   "id": "17af46d1",
   "metadata": {},
   "outputs": [
    {
     "data": {
      "text/html": [
       "<div>\n",
       "<style scoped>\n",
       "    .dataframe tbody tr th:only-of-type {\n",
       "        vertical-align: middle;\n",
       "    }\n",
       "\n",
       "    .dataframe tbody tr th {\n",
       "        vertical-align: top;\n",
       "    }\n",
       "\n",
       "    .dataframe thead th {\n",
       "        text-align: right;\n",
       "    }\n",
       "</style>\n",
       "<table border=\"1\" class=\"dataframe\">\n",
       "  <thead>\n",
       "    <tr style=\"text-align: right;\">\n",
       "      <th></th>\n",
       "      <th>match_id</th>\n",
       "      <th>season</th>\n",
       "      <th>start_date</th>\n",
       "      <th>venue</th>\n",
       "      <th>innings</th>\n",
       "      <th>ball</th>\n",
       "      <th>batting_team</th>\n",
       "      <th>bowling_team</th>\n",
       "      <th>striker</th>\n",
       "      <th>non_striker</th>\n",
       "      <th>bowler</th>\n",
       "      <th>runs_off_bat</th>\n",
       "      <th>extras</th>\n",
       "      <th>wides</th>\n",
       "      <th>noballs</th>\n",
       "      <th>byes</th>\n",
       "      <th>legbyes</th>\n",
       "      <th>penalty</th>\n",
       "      <th>wicket_type</th>\n",
       "      <th>player_dismissed</th>\n",
       "      <th>other_wicket_type</th>\n",
       "      <th>other_player_dismissed</th>\n",
       "      <th>Year</th>\n",
       "    </tr>\n",
       "  </thead>\n",
       "  <tbody>\n",
       "    <tr>\n",
       "      <th>559</th>\n",
       "      <td>335983</td>\n",
       "      <td>2008</td>\n",
       "      <td>2008-04-19</td>\n",
       "      <td>Punjab Cricket Association Stadium, Mohali</td>\n",
       "      <td>1</td>\n",
       "      <td>7.1</td>\n",
       "      <td>Chennai Super Kings</td>\n",
       "      <td>Kings XI Punjab</td>\n",
       "      <td>MS Dhoni</td>\n",
       "      <td>MEK Hussey</td>\n",
       "      <td>JR Hopes</td>\n",
       "      <td>0</td>\n",
       "      <td>0</td>\n",
       "      <td>NaN</td>\n",
       "      <td>NaN</td>\n",
       "      <td>NaN</td>\n",
       "      <td>NaN</td>\n",
       "      <td>NaN</td>\n",
       "      <td>lbw</td>\n",
       "      <td>MS Dhoni</td>\n",
       "      <td>NaN</td>\n",
       "      <td>NaN</td>\n",
       "      <td>2008</td>\n",
       "    </tr>\n",
       "    <tr>\n",
       "      <th>560</th>\n",
       "      <td>335983</td>\n",
       "      <td>2008</td>\n",
       "      <td>2008-04-19</td>\n",
       "      <td>Punjab Cricket Association Stadium, Mohali</td>\n",
       "      <td>1</td>\n",
       "      <td>6.6</td>\n",
       "      <td>Chennai Super Kings</td>\n",
       "      <td>Kings XI Punjab</td>\n",
       "      <td>MS Dhoni</td>\n",
       "      <td>MEK Hussey</td>\n",
       "      <td>IK Pathan</td>\n",
       "      <td>1</td>\n",
       "      <td>0</td>\n",
       "      <td>NaN</td>\n",
       "      <td>NaN</td>\n",
       "      <td>NaN</td>\n",
       "      <td>NaN</td>\n",
       "      <td>NaN</td>\n",
       "      <td>NaN</td>\n",
       "      <td>NaN</td>\n",
       "      <td>NaN</td>\n",
       "      <td>NaN</td>\n",
       "      <td>2008</td>\n",
       "    </tr>\n",
       "  </tbody>\n",
       "</table>\n",
       "</div>"
      ],
      "text/plain": [
       "     match_id  season start_date                                       venue  innings  ball         batting_team     bowling_team   striker non_striker     bowler  runs_off_bat  extras  wides  noballs  byes  legbyes  penalty wicket_type player_dismissed  other_wicket_type  other_player_dismissed  Year\n",
       "559  335983    2008   2008-04-19  Punjab Cricket Association Stadium, Mohali  1        7.1   Chennai Super Kings  Kings XI Punjab  MS Dhoni  MEK Hussey  JR Hopes   0             0      NaN    NaN      NaN   NaN      NaN       lbw         MS Dhoni        NaN                NaN                      2008\n",
       "560  335983    2008   2008-04-19  Punjab Cricket Association Stadium, Mohali  1        6.6   Chennai Super Kings  Kings XI Punjab  MS Dhoni  MEK Hussey  IK Pathan  1             0      NaN    NaN      NaN   NaN      NaN       NaN         NaN             NaN                NaN                      2008"
      ]
     },
     "execution_count": 13,
     "metadata": {},
     "output_type": "execute_result"
    }
   ],
   "source": [
    "MS_df.head(2)"
   ]
  },
  {
   "cell_type": "code",
   "execution_count": null,
   "id": "657f6b71",
   "metadata": {},
   "outputs": [],
   "source": []
  },
  {
   "cell_type": "code",
   "execution_count": 14,
   "id": "868d8064",
   "metadata": {},
   "outputs": [],
   "source": [
    "#Now we are doing performance Analysis of MS Dhoni from last 3 years :"
   ]
  },
  {
   "cell_type": "code",
   "execution_count": 15,
   "id": "c54dc074",
   "metadata": {},
   "outputs": [],
   "source": [
    "msd_df = MS_df[(MS_df.Year >= 2019) & (MS_df.Year <= 2021)]"
   ]
  },
  {
   "cell_type": "code",
   "execution_count": 16,
   "id": "31fe8e40",
   "metadata": {},
   "outputs": [
    {
     "data": {
      "text/html": [
       "<div>\n",
       "<style scoped>\n",
       "    .dataframe tbody tr th:only-of-type {\n",
       "        vertical-align: middle;\n",
       "    }\n",
       "\n",
       "    .dataframe tbody tr th {\n",
       "        vertical-align: top;\n",
       "    }\n",
       "\n",
       "    .dataframe thead th {\n",
       "        text-align: right;\n",
       "    }\n",
       "</style>\n",
       "<table border=\"1\" class=\"dataframe\">\n",
       "  <thead>\n",
       "    <tr style=\"text-align: right;\">\n",
       "      <th></th>\n",
       "      <th>match_id</th>\n",
       "      <th>season</th>\n",
       "      <th>start_date</th>\n",
       "      <th>venue</th>\n",
       "      <th>innings</th>\n",
       "      <th>ball</th>\n",
       "      <th>batting_team</th>\n",
       "      <th>bowling_team</th>\n",
       "      <th>striker</th>\n",
       "      <th>non_striker</th>\n",
       "      <th>bowler</th>\n",
       "      <th>runs_off_bat</th>\n",
       "      <th>extras</th>\n",
       "      <th>wides</th>\n",
       "      <th>noballs</th>\n",
       "      <th>byes</th>\n",
       "      <th>legbyes</th>\n",
       "      <th>penalty</th>\n",
       "      <th>wicket_type</th>\n",
       "      <th>player_dismissed</th>\n",
       "      <th>other_wicket_type</th>\n",
       "      <th>other_player_dismissed</th>\n",
       "      <th>Year</th>\n",
       "    </tr>\n",
       "  </thead>\n",
       "  <tbody>\n",
       "    <tr>\n",
       "      <th>165761</th>\n",
       "      <td>1175360</td>\n",
       "      <td>2019</td>\n",
       "      <td>2019-03-26</td>\n",
       "      <td>Arun Jaitley Stadium</td>\n",
       "      <td>2</td>\n",
       "      <td>14.6</td>\n",
       "      <td>Chennai Super Kings</td>\n",
       "      <td>Delhi Capitals</td>\n",
       "      <td>MS Dhoni</td>\n",
       "      <td>KM Jadhav</td>\n",
       "      <td>AR Patel</td>\n",
       "      <td>1</td>\n",
       "      <td>0</td>\n",
       "      <td>NaN</td>\n",
       "      <td>NaN</td>\n",
       "      <td>NaN</td>\n",
       "      <td>NaN</td>\n",
       "      <td>NaN</td>\n",
       "      <td>NaN</td>\n",
       "      <td>NaN</td>\n",
       "      <td>NaN</td>\n",
       "      <td>NaN</td>\n",
       "      <td>2019</td>\n",
       "    </tr>\n",
       "    <tr>\n",
       "      <th>165764</th>\n",
       "      <td>1175360</td>\n",
       "      <td>2019</td>\n",
       "      <td>2019-03-26</td>\n",
       "      <td>Arun Jaitley Stadium</td>\n",
       "      <td>2</td>\n",
       "      <td>15.5</td>\n",
       "      <td>Chennai Super Kings</td>\n",
       "      <td>Delhi Capitals</td>\n",
       "      <td>MS Dhoni</td>\n",
       "      <td>KM Jadhav</td>\n",
       "      <td>K Rabada</td>\n",
       "      <td>0</td>\n",
       "      <td>0</td>\n",
       "      <td>NaN</td>\n",
       "      <td>NaN</td>\n",
       "      <td>NaN</td>\n",
       "      <td>NaN</td>\n",
       "      <td>NaN</td>\n",
       "      <td>NaN</td>\n",
       "      <td>NaN</td>\n",
       "      <td>NaN</td>\n",
       "      <td>NaN</td>\n",
       "      <td>2019</td>\n",
       "    </tr>\n",
       "    <tr>\n",
       "      <th>165765</th>\n",
       "      <td>1175360</td>\n",
       "      <td>2019</td>\n",
       "      <td>2019-03-26</td>\n",
       "      <td>Arun Jaitley Stadium</td>\n",
       "      <td>2</td>\n",
       "      <td>15.6</td>\n",
       "      <td>Chennai Super Kings</td>\n",
       "      <td>Delhi Capitals</td>\n",
       "      <td>MS Dhoni</td>\n",
       "      <td>KM Jadhav</td>\n",
       "      <td>K Rabada</td>\n",
       "      <td>1</td>\n",
       "      <td>0</td>\n",
       "      <td>NaN</td>\n",
       "      <td>NaN</td>\n",
       "      <td>NaN</td>\n",
       "      <td>NaN</td>\n",
       "      <td>NaN</td>\n",
       "      <td>NaN</td>\n",
       "      <td>NaN</td>\n",
       "      <td>NaN</td>\n",
       "      <td>NaN</td>\n",
       "      <td>2019</td>\n",
       "    </tr>\n",
       "    <tr>\n",
       "      <th>165766</th>\n",
       "      <td>1175360</td>\n",
       "      <td>2019</td>\n",
       "      <td>2019-03-26</td>\n",
       "      <td>Arun Jaitley Stadium</td>\n",
       "      <td>2</td>\n",
       "      <td>16.1</td>\n",
       "      <td>Chennai Super Kings</td>\n",
       "      <td>Delhi Capitals</td>\n",
       "      <td>MS Dhoni</td>\n",
       "      <td>KM Jadhav</td>\n",
       "      <td>AR Patel</td>\n",
       "      <td>0</td>\n",
       "      <td>0</td>\n",
       "      <td>NaN</td>\n",
       "      <td>NaN</td>\n",
       "      <td>NaN</td>\n",
       "      <td>NaN</td>\n",
       "      <td>NaN</td>\n",
       "      <td>NaN</td>\n",
       "      <td>NaN</td>\n",
       "      <td>NaN</td>\n",
       "      <td>NaN</td>\n",
       "      <td>2019</td>\n",
       "    </tr>\n",
       "    <tr>\n",
       "      <th>165767</th>\n",
       "      <td>1175360</td>\n",
       "      <td>2019</td>\n",
       "      <td>2019-03-26</td>\n",
       "      <td>Arun Jaitley Stadium</td>\n",
       "      <td>2</td>\n",
       "      <td>16.2</td>\n",
       "      <td>Chennai Super Kings</td>\n",
       "      <td>Delhi Capitals</td>\n",
       "      <td>MS Dhoni</td>\n",
       "      <td>KM Jadhav</td>\n",
       "      <td>AR Patel</td>\n",
       "      <td>0</td>\n",
       "      <td>0</td>\n",
       "      <td>NaN</td>\n",
       "      <td>NaN</td>\n",
       "      <td>NaN</td>\n",
       "      <td>NaN</td>\n",
       "      <td>NaN</td>\n",
       "      <td>NaN</td>\n",
       "      <td>NaN</td>\n",
       "      <td>NaN</td>\n",
       "      <td>NaN</td>\n",
       "      <td>2019</td>\n",
       "    </tr>\n",
       "  </tbody>\n",
       "</table>\n",
       "</div>"
      ],
      "text/plain": [
       "        match_id  season start_date                 venue  innings  ball         batting_team    bowling_team   striker non_striker    bowler  runs_off_bat  extras  wides  noballs  byes  legbyes  penalty wicket_type player_dismissed  other_wicket_type  other_player_dismissed  Year\n",
       "165761  1175360   2019   2019-03-26  Arun Jaitley Stadium  2        14.6  Chennai Super Kings  Delhi Capitals  MS Dhoni  KM Jadhav   AR Patel  1             0      NaN    NaN      NaN   NaN      NaN       NaN         NaN             NaN                NaN                      2019\n",
       "165764  1175360   2019   2019-03-26  Arun Jaitley Stadium  2        15.5  Chennai Super Kings  Delhi Capitals  MS Dhoni  KM Jadhav   K Rabada  0             0      NaN    NaN      NaN   NaN      NaN       NaN         NaN             NaN                NaN                      2019\n",
       "165765  1175360   2019   2019-03-26  Arun Jaitley Stadium  2        15.6  Chennai Super Kings  Delhi Capitals  MS Dhoni  KM Jadhav   K Rabada  1             0      NaN    NaN      NaN   NaN      NaN       NaN         NaN             NaN                NaN                      2019\n",
       "165766  1175360   2019   2019-03-26  Arun Jaitley Stadium  2        16.1  Chennai Super Kings  Delhi Capitals  MS Dhoni  KM Jadhav   AR Patel  0             0      NaN    NaN      NaN   NaN      NaN       NaN         NaN             NaN                NaN                      2019\n",
       "165767  1175360   2019   2019-03-26  Arun Jaitley Stadium  2        16.2  Chennai Super Kings  Delhi Capitals  MS Dhoni  KM Jadhav   AR Patel  0             0      NaN    NaN      NaN   NaN      NaN       NaN         NaN             NaN                NaN                      2019"
      ]
     },
     "execution_count": 16,
     "metadata": {},
     "output_type": "execute_result"
    }
   ],
   "source": [
    "msd_df.head(5)"
   ]
  },
  {
   "cell_type": "code",
   "execution_count": 17,
   "id": "63d2086e",
   "metadata": {},
   "outputs": [],
   "source": [
    " # Most of the time Dhoni comes to play at position 5 or 6 th so its death overs so we are going to analyse his performance in death overs"
   ]
  },
  {
   "cell_type": "code",
   "execution_count": 18,
   "id": "4b1d6a47",
   "metadata": {},
   "outputs": [],
   "source": [
    "#but before going to that actually we find out how many runs he score during last 3 years"
   ]
  },
  {
   "cell_type": "code",
   "execution_count": 19,
   "id": "5c85f1be",
   "metadata": {},
   "outputs": [
    {
     "data": {
      "text/plain": [
       "35"
      ]
     },
     "execution_count": 19,
     "metadata": {},
     "output_type": "execute_result"
    }
   ],
   "source": [
    "#How many Match MS was played in last 3 years \n",
    "\n",
    "len(msd_df.match_id.unique())"
   ]
  },
  {
   "cell_type": "code",
   "execution_count": 20,
   "id": "c5ea35d8",
   "metadata": {},
   "outputs": [],
   "source": [
    "#but before going to that actually we find out how many runs he score during last 3 years in death over 15 to 20\n",
    "\n",
    "msd_df = msd_df[msd_df.ball >= 14.6] "
   ]
  },
  {
   "cell_type": "code",
   "execution_count": 21,
   "id": "12975305",
   "metadata": {},
   "outputs": [
    {
     "data": {
      "text/html": [
       "<div>\n",
       "<style scoped>\n",
       "    .dataframe tbody tr th:only-of-type {\n",
       "        vertical-align: middle;\n",
       "    }\n",
       "\n",
       "    .dataframe tbody tr th {\n",
       "        vertical-align: top;\n",
       "    }\n",
       "\n",
       "    .dataframe thead th {\n",
       "        text-align: right;\n",
       "    }\n",
       "</style>\n",
       "<table border=\"1\" class=\"dataframe\">\n",
       "  <thead>\n",
       "    <tr style=\"text-align: right;\">\n",
       "      <th></th>\n",
       "      <th>match_id</th>\n",
       "      <th>season</th>\n",
       "      <th>start_date</th>\n",
       "      <th>venue</th>\n",
       "      <th>innings</th>\n",
       "      <th>ball</th>\n",
       "      <th>batting_team</th>\n",
       "      <th>bowling_team</th>\n",
       "      <th>striker</th>\n",
       "      <th>non_striker</th>\n",
       "      <th>bowler</th>\n",
       "      <th>runs_off_bat</th>\n",
       "      <th>extras</th>\n",
       "      <th>wides</th>\n",
       "      <th>noballs</th>\n",
       "      <th>byes</th>\n",
       "      <th>legbyes</th>\n",
       "      <th>penalty</th>\n",
       "      <th>wicket_type</th>\n",
       "      <th>player_dismissed</th>\n",
       "      <th>other_wicket_type</th>\n",
       "      <th>other_player_dismissed</th>\n",
       "      <th>Year</th>\n",
       "    </tr>\n",
       "  </thead>\n",
       "  <tbody>\n",
       "    <tr>\n",
       "      <th>165761</th>\n",
       "      <td>1175360</td>\n",
       "      <td>2019</td>\n",
       "      <td>2019-03-26</td>\n",
       "      <td>Arun Jaitley Stadium</td>\n",
       "      <td>2</td>\n",
       "      <td>14.6</td>\n",
       "      <td>Chennai Super Kings</td>\n",
       "      <td>Delhi Capitals</td>\n",
       "      <td>MS Dhoni</td>\n",
       "      <td>KM Jadhav</td>\n",
       "      <td>AR Patel</td>\n",
       "      <td>1</td>\n",
       "      <td>0</td>\n",
       "      <td>NaN</td>\n",
       "      <td>NaN</td>\n",
       "      <td>NaN</td>\n",
       "      <td>NaN</td>\n",
       "      <td>NaN</td>\n",
       "      <td>NaN</td>\n",
       "      <td>NaN</td>\n",
       "      <td>NaN</td>\n",
       "      <td>NaN</td>\n",
       "      <td>2019</td>\n",
       "    </tr>\n",
       "    <tr>\n",
       "      <th>165764</th>\n",
       "      <td>1175360</td>\n",
       "      <td>2019</td>\n",
       "      <td>2019-03-26</td>\n",
       "      <td>Arun Jaitley Stadium</td>\n",
       "      <td>2</td>\n",
       "      <td>15.5</td>\n",
       "      <td>Chennai Super Kings</td>\n",
       "      <td>Delhi Capitals</td>\n",
       "      <td>MS Dhoni</td>\n",
       "      <td>KM Jadhav</td>\n",
       "      <td>K Rabada</td>\n",
       "      <td>0</td>\n",
       "      <td>0</td>\n",
       "      <td>NaN</td>\n",
       "      <td>NaN</td>\n",
       "      <td>NaN</td>\n",
       "      <td>NaN</td>\n",
       "      <td>NaN</td>\n",
       "      <td>NaN</td>\n",
       "      <td>NaN</td>\n",
       "      <td>NaN</td>\n",
       "      <td>NaN</td>\n",
       "      <td>2019</td>\n",
       "    </tr>\n",
       "    <tr>\n",
       "      <th>165765</th>\n",
       "      <td>1175360</td>\n",
       "      <td>2019</td>\n",
       "      <td>2019-03-26</td>\n",
       "      <td>Arun Jaitley Stadium</td>\n",
       "      <td>2</td>\n",
       "      <td>15.6</td>\n",
       "      <td>Chennai Super Kings</td>\n",
       "      <td>Delhi Capitals</td>\n",
       "      <td>MS Dhoni</td>\n",
       "      <td>KM Jadhav</td>\n",
       "      <td>K Rabada</td>\n",
       "      <td>1</td>\n",
       "      <td>0</td>\n",
       "      <td>NaN</td>\n",
       "      <td>NaN</td>\n",
       "      <td>NaN</td>\n",
       "      <td>NaN</td>\n",
       "      <td>NaN</td>\n",
       "      <td>NaN</td>\n",
       "      <td>NaN</td>\n",
       "      <td>NaN</td>\n",
       "      <td>NaN</td>\n",
       "      <td>2019</td>\n",
       "    </tr>\n",
       "  </tbody>\n",
       "</table>\n",
       "</div>"
      ],
      "text/plain": [
       "        match_id  season start_date                 venue  innings  ball         batting_team    bowling_team   striker non_striker    bowler  runs_off_bat  extras  wides  noballs  byes  legbyes  penalty wicket_type player_dismissed  other_wicket_type  other_player_dismissed  Year\n",
       "165761  1175360   2019   2019-03-26  Arun Jaitley Stadium  2        14.6  Chennai Super Kings  Delhi Capitals  MS Dhoni  KM Jadhav   AR Patel  1             0      NaN    NaN      NaN   NaN      NaN       NaN         NaN             NaN                NaN                      2019\n",
       "165764  1175360   2019   2019-03-26  Arun Jaitley Stadium  2        15.5  Chennai Super Kings  Delhi Capitals  MS Dhoni  KM Jadhav   K Rabada  0             0      NaN    NaN      NaN   NaN      NaN       NaN         NaN             NaN                NaN                      2019\n",
       "165765  1175360   2019   2019-03-26  Arun Jaitley Stadium  2        15.6  Chennai Super Kings  Delhi Capitals  MS Dhoni  KM Jadhav   K Rabada  1             0      NaN    NaN      NaN   NaN      NaN       NaN         NaN             NaN                NaN                      2019"
      ]
     },
     "execution_count": 21,
     "metadata": {},
     "output_type": "execute_result"
    }
   ],
   "source": [
    "msd_df.head(3)"
   ]
  },
  {
   "cell_type": "code",
   "execution_count": 22,
   "id": "f0736b84",
   "metadata": {},
   "outputs": [
    {
     "data": {
      "text/plain": [
       "497"
      ]
     },
     "execution_count": 22,
     "metadata": {},
     "output_type": "execute_result"
    }
   ],
   "source": [
    "sum(msd_df[('runs_off_bat')])"
   ]
  },
  {
   "cell_type": "code",
   "execution_count": 23,
   "id": "86af26ac",
   "metadata": {},
   "outputs": [],
   "source": [
    "#This data showing ball by ball data hence number of rows in dataframe are actual ball faced by him"
   ]
  },
  {
   "cell_type": "code",
   "execution_count": 24,
   "id": "83db00b8",
   "metadata": {},
   "outputs": [
    {
     "data": {
      "text/plain": [
       "331"
      ]
     },
     "execution_count": 24,
     "metadata": {},
     "output_type": "execute_result"
    }
   ],
   "source": [
    "len(msd_df)"
   ]
  },
  {
   "cell_type": "code",
   "execution_count": 25,
   "id": "370877a3",
   "metadata": {},
   "outputs": [
    {
     "data": {
      "text/plain": [
       "150.1510574018127"
      ]
     },
     "execution_count": 25,
     "metadata": {},
     "output_type": "execute_result"
    }
   ],
   "source": [
    "#Strikerate of MSD in death overs\n",
    "SR = ((sum(msd_df[('runs_off_bat')])) / (len(msd_df)))*100\n",
    "SR"
   ]
  },
  {
   "cell_type": "code",
   "execution_count": 26,
   "id": "20fec61f",
   "metadata": {},
   "outputs": [
    {
     "data": {
      "text/plain": [
       "38"
      ]
     },
     "execution_count": 26,
     "metadata": {},
     "output_type": "execute_result"
    }
   ],
   "source": [
    "#Number of 4's\n",
    "sum(msd_df.runs_off_bat == 4)"
   ]
  },
  {
   "cell_type": "code",
   "execution_count": 27,
   "id": "da3fecf8",
   "metadata": {},
   "outputs": [
    {
     "data": {
      "text/plain": [
       "26"
      ]
     },
     "execution_count": 27,
     "metadata": {},
     "output_type": "execute_result"
    }
   ],
   "source": [
    "#number of 6's\n",
    "sum(msd_df.runs_off_bat == 6)"
   ]
  },
  {
   "cell_type": "code",
   "execution_count": 28,
   "id": "3fc04b07",
   "metadata": {},
   "outputs": [],
   "source": [
    "#Now we look for how many times he got Out "
   ]
  },
  {
   "cell_type": "code",
   "execution_count": 29,
   "id": "5d5fc610",
   "metadata": {},
   "outputs": [
    {
     "data": {
      "text/plain": [
       "14"
      ]
     },
     "execution_count": 29,
     "metadata": {},
     "output_type": "execute_result"
    }
   ],
   "source": [
    "len(msd_df[msd_df.player_dismissed == \"MS Dhoni\"])"
   ]
  },
  {
   "cell_type": "code",
   "execution_count": 30,
   "id": "02470d42",
   "metadata": {},
   "outputs": [],
   "source": [
    "#Now we check for the other batsman's scores in death overs in last 3 years\n",
    "# so we make our main dataset first within last 3 years"
   ]
  },
  {
   "cell_type": "code",
   "execution_count": 38,
   "id": "db94c420",
   "metadata": {},
   "outputs": [
    {
     "data": {
      "text/html": [
       "<div>\n",
       "<style scoped>\n",
       "    .dataframe tbody tr th:only-of-type {\n",
       "        vertical-align: middle;\n",
       "    }\n",
       "\n",
       "    .dataframe tbody tr th {\n",
       "        vertical-align: top;\n",
       "    }\n",
       "\n",
       "    .dataframe thead th {\n",
       "        text-align: right;\n",
       "    }\n",
       "</style>\n",
       "<table border=\"1\" class=\"dataframe\">\n",
       "  <thead>\n",
       "    <tr style=\"text-align: right;\">\n",
       "      <th></th>\n",
       "      <th>match_id</th>\n",
       "      <th>season</th>\n",
       "      <th>start_date</th>\n",
       "      <th>venue</th>\n",
       "      <th>innings</th>\n",
       "      <th>ball</th>\n",
       "      <th>batting_team</th>\n",
       "      <th>bowling_team</th>\n",
       "      <th>striker</th>\n",
       "      <th>non_striker</th>\n",
       "      <th>bowler</th>\n",
       "      <th>runs_off_bat</th>\n",
       "      <th>extras</th>\n",
       "      <th>wides</th>\n",
       "      <th>noballs</th>\n",
       "      <th>byes</th>\n",
       "      <th>legbyes</th>\n",
       "      <th>penalty</th>\n",
       "      <th>wicket_type</th>\n",
       "      <th>player_dismissed</th>\n",
       "      <th>other_wicket_type</th>\n",
       "      <th>other_player_dismissed</th>\n",
       "      <th>Year</th>\n",
       "    </tr>\n",
       "  </thead>\n",
       "  <tbody>\n",
       "    <tr>\n",
       "      <th>164802</th>\n",
       "      <td>1175356</td>\n",
       "      <td>2019</td>\n",
       "      <td>2019-03-23</td>\n",
       "      <td>MA Chidambaram Stadium</td>\n",
       "      <td>2</td>\n",
       "      <td>14.6</td>\n",
       "      <td>Chennai Super Kings</td>\n",
       "      <td>Royal Challengers Bangalore</td>\n",
       "      <td>KM Jadhav</td>\n",
       "      <td>RA Jadeja</td>\n",
       "      <td>Mohammed Siraj</td>\n",
       "      <td>1</td>\n",
       "      <td>0</td>\n",
       "      <td>NaN</td>\n",
       "      <td>NaN</td>\n",
       "      <td>NaN</td>\n",
       "      <td>NaN</td>\n",
       "      <td>NaN</td>\n",
       "      <td>NaN</td>\n",
       "      <td>NaN</td>\n",
       "      <td>NaN</td>\n",
       "      <td>NaN</td>\n",
       "      <td>2019</td>\n",
       "    </tr>\n",
       "    <tr>\n",
       "      <th>164803</th>\n",
       "      <td>1175356</td>\n",
       "      <td>2019</td>\n",
       "      <td>2019-03-23</td>\n",
       "      <td>MA Chidambaram Stadium</td>\n",
       "      <td>2</td>\n",
       "      <td>15.1</td>\n",
       "      <td>Chennai Super Kings</td>\n",
       "      <td>Royal Challengers Bangalore</td>\n",
       "      <td>KM Jadhav</td>\n",
       "      <td>RA Jadeja</td>\n",
       "      <td>UT Yadav</td>\n",
       "      <td>1</td>\n",
       "      <td>0</td>\n",
       "      <td>NaN</td>\n",
       "      <td>NaN</td>\n",
       "      <td>NaN</td>\n",
       "      <td>NaN</td>\n",
       "      <td>NaN</td>\n",
       "      <td>NaN</td>\n",
       "      <td>NaN</td>\n",
       "      <td>NaN</td>\n",
       "      <td>NaN</td>\n",
       "      <td>2019</td>\n",
       "    </tr>\n",
       "    <tr>\n",
       "      <th>164804</th>\n",
       "      <td>1175356</td>\n",
       "      <td>2019</td>\n",
       "      <td>2019-03-23</td>\n",
       "      <td>MA Chidambaram Stadium</td>\n",
       "      <td>2</td>\n",
       "      <td>15.2</td>\n",
       "      <td>Chennai Super Kings</td>\n",
       "      <td>Royal Challengers Bangalore</td>\n",
       "      <td>RA Jadeja</td>\n",
       "      <td>KM Jadhav</td>\n",
       "      <td>UT Yadav</td>\n",
       "      <td>0</td>\n",
       "      <td>0</td>\n",
       "      <td>NaN</td>\n",
       "      <td>NaN</td>\n",
       "      <td>NaN</td>\n",
       "      <td>NaN</td>\n",
       "      <td>NaN</td>\n",
       "      <td>NaN</td>\n",
       "      <td>NaN</td>\n",
       "      <td>NaN</td>\n",
       "      <td>NaN</td>\n",
       "      <td>2019</td>\n",
       "    </tr>\n",
       "    <tr>\n",
       "      <th>164805</th>\n",
       "      <td>1175356</td>\n",
       "      <td>2019</td>\n",
       "      <td>2019-03-23</td>\n",
       "      <td>MA Chidambaram Stadium</td>\n",
       "      <td>2</td>\n",
       "      <td>15.3</td>\n",
       "      <td>Chennai Super Kings</td>\n",
       "      <td>Royal Challengers Bangalore</td>\n",
       "      <td>RA Jadeja</td>\n",
       "      <td>KM Jadhav</td>\n",
       "      <td>UT Yadav</td>\n",
       "      <td>1</td>\n",
       "      <td>0</td>\n",
       "      <td>NaN</td>\n",
       "      <td>NaN</td>\n",
       "      <td>NaN</td>\n",
       "      <td>NaN</td>\n",
       "      <td>NaN</td>\n",
       "      <td>NaN</td>\n",
       "      <td>NaN</td>\n",
       "      <td>NaN</td>\n",
       "      <td>NaN</td>\n",
       "      <td>2019</td>\n",
       "    </tr>\n",
       "    <tr>\n",
       "      <th>164806</th>\n",
       "      <td>1175356</td>\n",
       "      <td>2019</td>\n",
       "      <td>2019-03-23</td>\n",
       "      <td>MA Chidambaram Stadium</td>\n",
       "      <td>2</td>\n",
       "      <td>15.4</td>\n",
       "      <td>Chennai Super Kings</td>\n",
       "      <td>Royal Challengers Bangalore</td>\n",
       "      <td>KM Jadhav</td>\n",
       "      <td>RA Jadeja</td>\n",
       "      <td>UT Yadav</td>\n",
       "      <td>1</td>\n",
       "      <td>0</td>\n",
       "      <td>NaN</td>\n",
       "      <td>NaN</td>\n",
       "      <td>NaN</td>\n",
       "      <td>NaN</td>\n",
       "      <td>NaN</td>\n",
       "      <td>NaN</td>\n",
       "      <td>NaN</td>\n",
       "      <td>NaN</td>\n",
       "      <td>NaN</td>\n",
       "      <td>2019</td>\n",
       "    </tr>\n",
       "  </tbody>\n",
       "</table>\n",
       "</div>"
      ],
      "text/plain": [
       "        match_id  season start_date                   venue  innings  ball         batting_team                 bowling_team    striker non_striker          bowler  runs_off_bat  extras  wides  noballs  byes  legbyes  penalty wicket_type player_dismissed  other_wicket_type  other_player_dismissed  Year\n",
       "164802  1175356   2019   2019-03-23  MA Chidambaram Stadium  2        14.6  Chennai Super Kings  Royal Challengers Bangalore  KM Jadhav  RA Jadeja   Mohammed Siraj  1             0      NaN    NaN      NaN   NaN      NaN       NaN         NaN             NaN                NaN                      2019\n",
       "164803  1175356   2019   2019-03-23  MA Chidambaram Stadium  2        15.1  Chennai Super Kings  Royal Challengers Bangalore  KM Jadhav  RA Jadeja   UT Yadav        1             0      NaN    NaN      NaN   NaN      NaN       NaN         NaN             NaN                NaN                      2019\n",
       "164804  1175356   2019   2019-03-23  MA Chidambaram Stadium  2        15.2  Chennai Super Kings  Royal Challengers Bangalore  RA Jadeja  KM Jadhav   UT Yadav        0             0      NaN    NaN      NaN   NaN      NaN       NaN         NaN             NaN                NaN                      2019\n",
       "164805  1175356   2019   2019-03-23  MA Chidambaram Stadium  2        15.3  Chennai Super Kings  Royal Challengers Bangalore  RA Jadeja  KM Jadhav   UT Yadav        1             0      NaN    NaN      NaN   NaN      NaN       NaN         NaN             NaN                NaN                      2019\n",
       "164806  1175356   2019   2019-03-23  MA Chidambaram Stadium  2        15.4  Chennai Super Kings  Royal Challengers Bangalore  KM Jadhav  RA Jadeja   UT Yadav        1             0      NaN    NaN      NaN   NaN      NaN       NaN         NaN             NaN                NaN                      2019"
      ]
     },
     "execution_count": 38,
     "metadata": {},
     "output_type": "execute_result"
    }
   ],
   "source": [
    "df = df[(df.Year >= 2019) & (df.Year <= 2021)]\n",
    "df = df[df.ball >= 14.6] \n",
    "df.head(5)"
   ]
  },
  {
   "cell_type": "code",
   "execution_count": null,
   "id": "c94d3d8b",
   "metadata": {},
   "outputs": [],
   "source": [
    "df.groupby(['striker'])['runs_off_bat'].sum().sort_values(ascending = False).head(10)"
   ]
  },
  {
   "cell_type": "code",
   "execution_count": 50,
   "id": "c8c148b9",
   "metadata": {},
   "outputs": [
    {
     "data": {
      "image/png": "[encoded data removed]",
      "text/plain": [
       "<Figure size 640x480 with 1 Axes>"
      ]
     },
     "metadata": {},
     "output_type": "display_data"
    }
   ],
   "source": [
    "df.groupby(['striker'])['runs_off_bat'].sum().sort_values(ascending = False).head(10).plot(kind = 'bar')\n",
    "plt.title(\"Dhoni's place in death overs of IPL from last 3 years\")\n",
    "plt.xlabel('striker')\n",
    "plt.ylabel('Runs Scored')\n",
    "plt.show()"
   ]
  },
  {
   "cell_type": "code",
   "execution_count": null,
   "id": "6b84979e",
   "metadata": {},
   "outputs": [],
   "source": [
    "#From Above Bar Plot we can say that last season for Him and his team was not as good but still MS Dhoni is in top 5   "
   ]
  },
  {
   "cell_type": "code",
   "execution_count": null,
   "id": "d2956452",
   "metadata": {},
   "outputs": [],
   "source": []
  },
  {
   "cell_type": "code",
   "execution_count": null,
   "id": "dc84fb63",
   "metadata": {},
   "outputs": [],
   "source": []
  }
 ],
 "metadata": {
  "kernelspec": {
   "display_name": "Python 3 (ipykernel)",
   "language": "python",
   "name": "python3"
  },
  "language_info": {
   "codemirror_mode": {
    "name": "ipython",
    "version": 3
   },
   "file_extension": ".py",
   "mimetype": "text/x-python",
   "name": "python",
   "nbconvert_exporter": "python",
   "pygments_lexer": "ipython3",
   "version": "3.9.13"
  }
 },
 "nbformat": 4,
 "nbformat_minor": 5
}
